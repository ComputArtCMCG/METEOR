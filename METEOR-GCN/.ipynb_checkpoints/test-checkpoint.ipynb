{
 "cells": [
  {
   "cell_type": "code",
   "execution_count": 1,
   "metadata": {
    "collapsed": true
   },
   "outputs": [],
   "source": [
    "import numpy as np\n",
    "from rdkit import Chem\n",
    "import random\n",
    "import torch\n",
    "import torch.nn as nn\n",
    "import copy\n",
    "import rdkit\n",
    "import networkx as nx\n",
    "from typing import List\n",
    "from states import tensorize_isolated_atom,tensorize_nxgraph,mol_to_nx,nx_to_mol"
   ]
  },
  {
   "cell_type": "code",
   "execution_count": 22,
   "metadata": {
    "collapsed": true
   },
   "outputs": [],
   "source": [
    "ATOM_FDIM = 34\n",
    "BOND_FDIM = 5\n",
    "MAX_ACTION = 100\n",
    "MAX_ATOM = MAX_ACTION + 1  # 1 for padding\n",
    "MAX_NB = 6\n",
    "#POSSIBLE_ATOMS = [('C',0),('N',0), ('N',1),('N',-1),('O',0),('O',-1),('S',0), ('F',0), ('I',0), ('Cl',0),('Br',0),('P',0)]\n",
    "POSSIBLE_ATOMS = ['C','N','O','S''F','I','Cl','Br','P']\n",
    "POSSIBLE_ATOM_TYPES_NUM = len(POSSIBLE_ATOMS)\n",
    "POSSIBLE_BONDS = [Chem.rdchem.BondType.SINGLE, Chem.rdchem.BondType.DOUBLE,Chem.rdchem.BondType.TRIPLE]"
   ]
  },
  {
   "cell_type": "code",
   "execution_count": 4,
   "metadata": {
    "collapsed": true
   },
   "outputs": [],
   "source": [
    "POSSIBLE_ATOMS = ['C','N','O','S','F','I', 'Cl','Br']\n",
    "POSSIBLE_ATOM_TYPES_NUM = len(POSSIBLE_ATOMS)\n",
    "POSSIBLE_BONDS = [Chem.rdchem.BondType.SINGLE, Chem.rdchem.BondType.DOUBLE,Chem.rdchem.BondType.TRIPLE]\n",
    "ISOLATED_ATOMS_MOLS = [Chem.RWMol() for _ in range(POSSIBLE_ATOM_TYPES_NUM)]"
   ]
  },
  {
   "cell_type": "code",
   "execution_count": 38,
   "metadata": {
    "collapsed": true
   },
   "outputs": [],
   "source": [
    "mol = Chem.MolFromSmiles('C[C@H]([C@H](C1=C(C=CS1)Br)O)C2=CC=CC=N2')\n",
    "Chem.SanitizeMol(mol,sanitizeOps=Chem.SanitizeFlags.SANITIZE_KEKULIZE)\n",
    "g = mol_to_nx(mol)"
   ]
  },
  {
   "cell_type": "code",
   "execution_count": 39,
   "metadata": {
    "collapsed": true
   },
   "outputs": [],
   "source": [
    "edges_sub = random.sample(g.edges(),k=9)"
   ]
  },
  {
   "cell_type": "code",
   "execution_count": 40,
   "metadata": {
    "collapsed": true
   },
   "outputs": [],
   "source": [
    "#graph_sub = nx.Graph(edges_sub)\n",
    "graph_sub = g.subgraph(max(nx.connected_components(nx.Graph(edges_sub)),key=len))"
   ]
  },
  {
   "cell_type": "code",
   "execution_count": 41,
   "metadata": {
    "collapsed": true
   },
   "outputs": [],
   "source": [
    "def get_expert(mol):\n",
    "    Chem.SanitizeMol(mol,sanitizeOps=Chem.SanitizeFlags.SANITIZE_KEKULIZE)\n",
    "    graph = mol_to_nx(mol)\n",
    "    edges = graph.edges()\n",
    "    edges_sub_len = random.randint(1,len(edges))\n",
    "    if edges_sub_len == len(edges):\n",
    "        action = [[0,0,0,1]]\n",
    "        action = torch.LongTensor(action)\n",
    "        return graph,action\n",
    "    else:\n",
    "        action = []\n",
    "        edges_sub = random.sample(edges,k=edges_sub_len)       \n",
    "        graph_sub:nx.Graph = graph.subgraph(max(nx.connected_components(nx.Graph(edges_sub)),key=len))\n",
    "        for edge in graph_sub.edges():  #when a ring is broken, the sub connected graph will also include the bond and atom, remove it\n",
    "            if edge not in edges_sub:\n",
    "                graph_sub.remove_edges_from([edge])\n",
    "        #graph_sub = graph_sub.subgraph(max(nx.connected_components(nx.Graph(graph_sub.edges())),key=len))\n",
    "        possible_edges = compare_graph(graph,graph_sub)\n",
    "        print(possible_edges)\n",
    "        assert len(possible_edges) > 0\n",
    "        graph_nodes,sub_nodes = graph.nodes(),graph_sub.nodes()\n",
    "        for (node_1,node_2) in possible_edges:\n",
    "            bond_type = POSSIBLE_BONDS.index(graph.edge[node_1][node_2]['bond_type'])\n",
    "            if node_1 in sub_nodes and node_2 in sub_nodes: # a ring is formed\n",
    "                ### start and end is all ok\n",
    "                action.append([sub_nodes.index(node_1),sub_nodes.index(node_2),bond_type,0])\n",
    "                action.append([sub_nodes.index(node_2),sub_nodes.index(node_1),bond_type,0])\n",
    "\n",
    "            elif node_1 in sub_nodes and node_2 not in sub_nodes:\n",
    "                ### start is node 1\n",
    "                assert node_2 in graph_nodes\n",
    "                start = sub_nodes.index(node_1)\n",
    "                node_2_symbol = graph.node[node_2]['symbol']\n",
    "                end = len(sub_nodes) + POSSIBLE_ATOMS.index(node_2_symbol)\n",
    "                action.append([start,end,bond_type,0])\n",
    "            \n",
    "            elif node_2 in sub_nodes and node_1 not in sub_nodes:\n",
    "                ### start is node 2\n",
    "                assert node_1 in graph_nodes\n",
    "                start = sub_nodes.index(node_2)\n",
    "                node_1_symbol = graph.node[node_1]['symbol']\n",
    "                end = len(sub_nodes) + POSSIBLE_ATOMS.index(node_1_symbol)\n",
    "                action.append([start,end,bond_type,0])\n",
    "        assert len(action) > 0\n",
    "        action = torch.LongTensor(action)\n",
    "        \n",
    "        mol_sub = nx_to_mol(graph_sub)\n",
    "        print(Chem.MolToSmiles(mol))\n",
    "        print(Chem.MolToSmiles(mol_sub))\n",
    "        print(action)\n",
    "        graph_sub = mol_to_nx(mol_sub)\n",
    "\n",
    "        return graph_sub,action\n",
    "\n",
    "def compare_graph(graph:nx.Graph,graph_sub:nx.Graph):\n",
    "    graph_edges,sub_edges = graph.edges(),graph_sub.edges()\n",
    "    sub_nodes = graph_sub.nodes()\n",
    "    posible_edges = []\n",
    "    for (start,end) in graph_edges:\n",
    "        if (start,end) in sub_edges:\n",
    "            continue\n",
    "        else:\n",
    "            if start in sub_nodes or end in sub_nodes:\n",
    "                posible_edges.append((start,end))\n",
    "    return posible_edges"
   ]
  },
  {
   "cell_type": "code",
   "execution_count": 48,
   "metadata": {},
   "outputs": [
    {
     "name": "stdout",
     "output_type": "stream",
     "text": [
      "[(2, 9)]\n",
      "CC(C1=CC=CC=N1)C(O)C1=C(Br)C=CS1\n",
      "CC(CC1SC=CC=1Br)C1=CC=CC=N1\n",
      "tensor([[ 2, 17,  0,  0]])\n"
     ]
    }
   ],
   "source": [
    "graph_sub,action = get_expert(mol)"
   ]
  },
  {
   "cell_type": "code",
   "execution_count": 49,
   "metadata": {},
   "outputs": [
    {
     "data": {
      "text/plain": [
       "<networkx.classes.graph.Graph at 0x13be00810b8>"
      ]
     },
     "execution_count": 49,
     "metadata": {},
     "output_type": "execute_result"
    }
   ],
   "source": [
    "graph_sub"
   ]
  },
  {
   "cell_type": "code",
   "execution_count": 50,
   "metadata": {},
   "outputs": [
    {
     "data": {
      "text/plain": [
       "rdkit.Chem.rdmolops.SanitizeFlags.SANITIZE_NONE"
      ]
     },
     "execution_count": 50,
     "metadata": {},
     "output_type": "execute_result"
    }
   ],
   "source": [
    "a = nx_to_mol(graph_sub)\n",
    "Chem.SanitizeMol(a,sanitizeOps=Chem.SanitizeFlags.SANITIZE_PROPERTIES)"
   ]
  },
  {
   "cell_type": "code",
   "execution_count": 53,
   "metadata": {},
   "outputs": [
    {
     "name": "stdout",
     "output_type": "stream",
     "text": [
      "C 3\n",
      "C 1\n",
      "C 2\n",
      "C 0\n",
      "C 0\n",
      "C 1\n",
      "C 1\n",
      "S 0\n",
      "Br 0\n",
      "C 0\n",
      "C 1\n",
      "C 1\n",
      "C 1\n",
      "C 1\n",
      "N 0\n"
     ]
    }
   ],
   "source": [
    "for atom in a.GetAtoms():\n",
    "    print(atom.GetSymbol(),atom.GetImplicitValence())"
   ]
  },
  {
   "cell_type": "code",
   "execution_count": 52,
   "metadata": {},
   "outputs": [
    {
     "data": {
      "text/plain": [
       "{0: {1: {'bond_type': rdkit.Chem.rdchem.BondType.SINGLE, 'ring_bond': False}},\n",
       " 1: {0: {'bond_type': rdkit.Chem.rdchem.BondType.SINGLE, 'ring_bond': False},\n",
       "  2: {'bond_type': rdkit.Chem.rdchem.BondType.SINGLE, 'ring_bond': False},\n",
       "  9: {'bond_type': rdkit.Chem.rdchem.BondType.SINGLE, 'ring_bond': False}},\n",
       " 2: {1: {'bond_type': rdkit.Chem.rdchem.BondType.SINGLE, 'ring_bond': False},\n",
       "  3: {'bond_type': rdkit.Chem.rdchem.BondType.SINGLE, 'ring_bond': False}},\n",
       " 3: {2: {'bond_type': rdkit.Chem.rdchem.BondType.SINGLE, 'ring_bond': False},\n",
       "  4: {'bond_type': rdkit.Chem.rdchem.BondType.DOUBLE, 'ring_bond': True},\n",
       "  7: {'bond_type': rdkit.Chem.rdchem.BondType.SINGLE, 'ring_bond': True}},\n",
       " 4: {3: {'bond_type': rdkit.Chem.rdchem.BondType.DOUBLE, 'ring_bond': True},\n",
       "  5: {'bond_type': rdkit.Chem.rdchem.BondType.SINGLE, 'ring_bond': True},\n",
       "  8: {'bond_type': rdkit.Chem.rdchem.BondType.SINGLE, 'ring_bond': False}},\n",
       " 5: {4: {'bond_type': rdkit.Chem.rdchem.BondType.SINGLE, 'ring_bond': True},\n",
       "  6: {'bond_type': rdkit.Chem.rdchem.BondType.DOUBLE, 'ring_bond': True}},\n",
       " 6: {5: {'bond_type': rdkit.Chem.rdchem.BondType.DOUBLE, 'ring_bond': True},\n",
       "  7: {'bond_type': rdkit.Chem.rdchem.BondType.SINGLE, 'ring_bond': True}},\n",
       " 7: {3: {'bond_type': rdkit.Chem.rdchem.BondType.SINGLE, 'ring_bond': True},\n",
       "  6: {'bond_type': rdkit.Chem.rdchem.BondType.SINGLE, 'ring_bond': True}},\n",
       " 8: {4: {'bond_type': rdkit.Chem.rdchem.BondType.SINGLE, 'ring_bond': False}},\n",
       " 9: {1: {'bond_type': rdkit.Chem.rdchem.BondType.SINGLE, 'ring_bond': False},\n",
       "  10: {'bond_type': rdkit.Chem.rdchem.BondType.DOUBLE, 'ring_bond': True},\n",
       "  14: {'bond_type': rdkit.Chem.rdchem.BondType.SINGLE, 'ring_bond': True}},\n",
       " 10: {9: {'bond_type': rdkit.Chem.rdchem.BondType.DOUBLE, 'ring_bond': True},\n",
       "  11: {'bond_type': rdkit.Chem.rdchem.BondType.SINGLE, 'ring_bond': True}},\n",
       " 11: {10: {'bond_type': rdkit.Chem.rdchem.BondType.SINGLE, 'ring_bond': True},\n",
       "  12: {'bond_type': rdkit.Chem.rdchem.BondType.DOUBLE, 'ring_bond': True}},\n",
       " 12: {11: {'bond_type': rdkit.Chem.rdchem.BondType.DOUBLE, 'ring_bond': True},\n",
       "  13: {'bond_type': rdkit.Chem.rdchem.BondType.SINGLE, 'ring_bond': True}},\n",
       " 13: {12: {'bond_type': rdkit.Chem.rdchem.BondType.SINGLE, 'ring_bond': True},\n",
       "  14: {'bond_type': rdkit.Chem.rdchem.BondType.DOUBLE, 'ring_bond': True}},\n",
       " 14: {9: {'bond_type': rdkit.Chem.rdchem.BondType.SINGLE, 'ring_bond': True},\n",
       "  13: {'bond_type': rdkit.Chem.rdchem.BondType.DOUBLE, 'ring_bond': True}}}"
      ]
     },
     "execution_count": 52,
     "metadata": {},
     "output_type": "execute_result"
    }
   ],
   "source": [
    "mol_to_nx(a).edge"
   ]
  },
  {
   "cell_type": "code",
   "execution_count": 54,
   "metadata": {},
   "outputs": [
    {
     "data": {
      "text/plain": [
       "tensor([1, 1])"
      ]
     },
     "execution_count": 54,
     "metadata": {},
     "output_type": "execute_result"
    }
   ],
   "source": [
    "torch.cat([torch.tensor([1]),torch.tensor([1])],dim=-1)"
   ]
  },
  {
   "cell_type": "code",
   "execution_count": 56,
   "metadata": {},
   "outputs": [
    {
     "data": {
      "text/plain": [
       "-4.9"
      ]
     },
     "execution_count": 56,
     "metadata": {},
     "output_type": "execute_result"
    }
   ],
   "source": [
    "float('1         -4.9      0.000      0.000'.split()[1])"
   ]
  },
  {
   "cell_type": "code",
   "execution_count": 81,
   "metadata": {
    "collapsed": true
   },
   "outputs": [],
   "source": [
    "from utils.PyPretreatMol import StandardizeMol"
   ]
  },
  {
   "cell_type": "code",
   "execution_count": 82,
   "metadata": {
    "collapsed": true
   },
   "outputs": [],
   "source": [
    "sm = StandardizeMol()"
   ]
  },
  {
   "cell_type": "code",
   "execution_count": 14,
   "metadata": {
    "collapsed": true
   },
   "outputs": [],
   "source": [
    "#smiles = [\"O=C([O-])c1ccccc1\", \"C[n+]1c([N-](C))cccc1\", \"[2H]C(Cl)(Cl)Cl\"]\n",
    "mol = Chem.MolFromSmiles(\"O=C(O)c1ccccc1\")\n",
    "\n",
    "#sm = StandardizeMol()\n",
    "#mol = sm.addhs(mol)\n",
    "#mol = sm.disconnect_metals(mol)\n",
    "#mol = sm.largest_fragment(mol)\n",
    "#mol = sm.normalize(mol)\n",
    "#mol = sm.uncharge(mol)\n",
    "#mol = sm.canonicalize_tautomer(mol)\n",
    "#mol = sm.addhs(mol)\n",
    "#mol = sm.reionize(mol)\n",
    "#mol = sm.rmhs(mol)\n",
    "#mol = sm.addhs(mol)\n",
    "#print(Chem.MolToSmiles(mol, isomericSmiles=True))"
   ]
  },
  {
   "cell_type": "code",
   "execution_count": 19,
   "metadata": {
    "collapsed": true
   },
   "outputs": [],
   "source": [
    "import subprocess\n",
    "from subprocess import Popen,PIPE\n",
    "def protonation_and_add_H(mol):\n",
    "    smi = Chem.MolToSmiles(mol)\n",
    "    cmd = \"obabel -:'{}' -p 7.0 -o smi\".format(smi)\n",
    "    p = Popen(cmd,shell=True,stdin=PIPE,stdout=PIPE,stderr=subprocess.STDOUT)\n",
    "    outs,err = p.communicate()\n",
    "    for line in outs.decode().split('\\n'):\n",
    "        if line.strip() == '1 molecule converted' or line.strip() == '':\n",
    "            pass\n",
    "        else:\n",
    "            converted_smi = line.strip()\n",
    "            protonated_mol = Chem.MolFromSmiles(converted_smi)\n",
    "            protonated_mol = Chem.AddHs(protonated_mol)\n",
    "            return protonated_mol"
   ]
  },
  {
   "cell_type": "code",
   "execution_count": 20,
   "metadata": {},
   "outputs": [
    {
     "ename": "ArgumentError",
     "evalue": "Python argument types in\n    rdkit.Chem.rdmolops.AddHs(NoneType)\ndid not match C++ signature:\n    AddHs(class RDKit::ROMol mol, bool explicitOnly=False, bool addCoords=False, class boost::python::api::object onlyOnAtoms=None)",
     "output_type": "error",
     "traceback": [
      "\u001b[1;31m---------------------------------------------------------------------------\u001b[0m",
      "\u001b[1;31mArgumentError\u001b[0m                             Traceback (most recent call last)",
      "\u001b[1;32m<ipython-input-20-7cc909744ca1>\u001b[0m in \u001b[0;36m<module>\u001b[1;34m\u001b[0m\n\u001b[1;32m----> 1\u001b[1;33m \u001b[0mprotonation_and_add_H\u001b[0m\u001b[1;33m(\u001b[0m\u001b[0mmol\u001b[0m\u001b[1;33m)\u001b[0m\u001b[1;33m\u001b[0m\u001b[1;33m\u001b[0m\u001b[0m\n\u001b[0m",
      "\u001b[1;32m<ipython-input-19-b06a74abd33c>\u001b[0m in \u001b[0;36mprotonation_and_add_H\u001b[1;34m(mol)\u001b[0m\n\u001b[0;32m     12\u001b[0m             \u001b[0mconverted_smi\u001b[0m \u001b[1;33m=\u001b[0m \u001b[0mline\u001b[0m\u001b[1;33m.\u001b[0m\u001b[0mstrip\u001b[0m\u001b[1;33m(\u001b[0m\u001b[1;33m)\u001b[0m\u001b[1;33m\u001b[0m\u001b[1;33m\u001b[0m\u001b[0m\n\u001b[0;32m     13\u001b[0m             \u001b[0mprotonated_mol\u001b[0m \u001b[1;33m=\u001b[0m \u001b[0mChem\u001b[0m\u001b[1;33m.\u001b[0m\u001b[0mMolFromSmiles\u001b[0m\u001b[1;33m(\u001b[0m\u001b[0mconverted_smi\u001b[0m\u001b[1;33m)\u001b[0m\u001b[1;33m\u001b[0m\u001b[1;33m\u001b[0m\u001b[0m\n\u001b[1;32m---> 14\u001b[1;33m             \u001b[0mprotonated_mol\u001b[0m \u001b[1;33m=\u001b[0m \u001b[0mChem\u001b[0m\u001b[1;33m.\u001b[0m\u001b[0mAddHs\u001b[0m\u001b[1;33m(\u001b[0m\u001b[0mprotonated_mol\u001b[0m\u001b[1;33m)\u001b[0m\u001b[1;33m\u001b[0m\u001b[1;33m\u001b[0m\u001b[0m\n\u001b[0m\u001b[0;32m     15\u001b[0m             \u001b[1;32mreturn\u001b[0m \u001b[0mprotonated_mol\u001b[0m\u001b[1;33m\u001b[0m\u001b[1;33m\u001b[0m\u001b[0m\n",
      "\u001b[1;31mArgumentError\u001b[0m: Python argument types in\n    rdkit.Chem.rdmolops.AddHs(NoneType)\ndid not match C++ signature:\n    AddHs(class RDKit::ROMol mol, bool explicitOnly=False, bool addCoords=False, class boost::python::api::object onlyOnAtoms=None)"
     ]
    }
   ],
   "source": [
    "protonation_and_add_H(mol)"
   ]
  },
  {
   "cell_type": "code",
   "execution_count": 9,
   "metadata": {},
   "outputs": [
    {
     "data": {
      "text/plain": [
       "'O=C([O-])c1ccccc1\\t\\n1 molecule converted'"
      ]
     },
     "execution_count": 9,
     "metadata": {},
     "output_type": "execute_result"
    }
   ],
   "source": [
    "b'O=C([O-])c1ccccc1\\t\\n1 molecule converted\\n'.decode().strip('\\n')"
   ]
  },
  {
   "cell_type": "code",
   "execution_count": null,
   "metadata": {
    "collapsed": true
   },
   "outputs": [],
   "source": []
  }
 ],
 "metadata": {
  "kernelspec": {
   "display_name": "torch",
   "language": "python",
   "name": "torch"
  },
  "language_info": {
   "codemirror_mode": {
    "name": "ipython",
    "version": 3
   },
   "file_extension": ".py",
   "mimetype": "text/x-python",
   "name": "python",
   "nbconvert_exporter": "python",
   "pygments_lexer": "ipython3",
   "version": "3.6.13"
  },
  "vscode": {
   "interpreter": {
    "hash": "89b4167bc32900549382e57c09da8ec96ee84627d5c91bfaef9420c5a96ad5ba"
   }
  }
 },
 "nbformat": 4,
 "nbformat_minor": 4
}
